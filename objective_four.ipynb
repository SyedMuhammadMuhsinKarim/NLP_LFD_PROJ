{
  "cells": [
    {
      "cell_type": "code",
      "execution_count": 1,
      "metadata": {
        "id": "x0rY-xiw-L2O"
      },
      "outputs": [],
      "source": [
        "import pandas as pd\n",
        "import matplotlib.pyplot as plt\n",
        "import pickle\n",
        "\n",
        "# NLP\n",
        "import nltk\n",
        "import spacy\n",
        "\n",
        "# Machine Learning\n",
        "from sklearn.feature_extraction.text import TfidfVectorizer\n",
        "from sklearn.preprocessing import LabelEncoder\n",
        "from sklearn.model_selection import train_test_split\n",
        "from sklearn.naive_bayes import MultinomialNB\n",
        "from sklearn.svm import SVC\n",
        "\n",
        "from utils import DataCleaner, model_metrics"
      ]
    },
    {
      "cell_type": "code",
      "execution_count": null,
      "metadata": {
        "id": "CMF4RXYy-L2r"
      },
      "outputs": [],
      "source": [
        "sp = spacy.load('en_core_web_sm')"
      ]
    },
    {
      "cell_type": "markdown",
      "metadata": {
        "id": "XWD0Sbtj-L2s"
      },
      "source": [
        "#### LOAD AND CLEAN DATA"
      ]
    },
    {
      "cell_type": "code",
      "execution_count": 2,
      "metadata": {
        "id": "fFZmO-xn-L2v"
      },
      "outputs": [],
      "source": [
        "import os\n",
        "path = os.getcwd() + \"/data.csv\""
      ]
    },
    {
      "cell_type": "code",
      "execution_count": 4,
      "metadata": {
        "colab": {
          "base_uri": "https://localhost:8080/"
        },
        "id": "XbjxJKea-L2w",
        "outputId": "22371e6b-9d24-48b7-d768-796b7bbb7afa"
      },
      "outputs": [
        {
          "data": {
            "text/plain": [
              "Pakistan      11423\n",
              "World          9103\n",
              "Sports         6004\n",
              "Newspaper      5859\n",
              "Business       4187\n",
              "Name: TAG, dtype: int64"
            ]
          },
          "execution_count": 4,
          "metadata": {},
          "output_type": "execute_result"
        }
      ],
      "source": [
        "\"\"\" LOAD DATA SET INTO PANDAS DATAFRAME \"\"\"\n",
        "data_set = pd.read_csv(path)[['TITLE', 'TAG']]\n",
        "data_set = data_set.drop_duplicates()\n",
        "data_set = data_set.groupby('TAG').filter(lambda x: len(x) > 1000)\n",
        "data_set['TAG'].value_counts()"
      ]
    },
    {
      "cell_type": "code",
      "execution_count": 5,
      "metadata": {
        "colab": {
          "base_uri": "https://localhost:8080/"
        },
        "id": "yMDVRaOD-L2y",
        "outputId": "75eeab5c-014f-49c9-d237-263d001e6429"
      },
      "outputs": [
        {
          "name": "stdout",
          "output_type": "stream",
          "text": [
            "[nltk_data] Downloading package stopwords to /root/nltk_data...\n",
            "[nltk_data]   Unzipping corpora/stopwords.zip.\n",
            "[nltk_data] Downloading package punkt to /root/nltk_data...\n",
            "[nltk_data]   Unzipping tokenizers/punkt.zip.\n",
            "[nltk_data] Downloading package wordnet to /root/nltk_data...\n",
            "[nltk_data]   Unzipping corpora/wordnet.zip.\n"
          ]
        }
      ],
      "source": [
        "dc = DataCleaner()\n",
        "data_set['TITLE'] = data_set['TITLE'] = data_set['TITLE'].apply(lambda x: dc.data_cleaning(x))"
      ]
    },
    {
      "cell_type": "markdown",
      "metadata": {
        "id": "EaBUF2lv-L2z"
      },
      "source": [
        "#### PREPARE DATA FOR MODELING"
      ]
    },
    {
      "cell_type": "code",
      "execution_count": 6,
      "metadata": {
        "id": "-8AmMHGT-L20"
      },
      "outputs": [],
      "source": [
        "tf  = TfidfVectorizer(max_features=5000)\n",
        "train = tf.fit_transform(data_set['TITLE']).toarray()\n",
        "test = LabelEncoder().fit_transform(data_set['TAG'])\n",
        "\n",
        "train_x, test_x, train_y, test_y = train_test_split(train, test, test_size=0.2, random_state=0)"
      ]
    },
    {
      "cell_type": "markdown",
      "metadata": {
        "id": "roEJNFV8-L23"
      },
      "source": [
        "#### Modeling and Evaluation (NAIVE BAYES)"
      ]
    },
    {
      "cell_type": "code",
      "execution_count": 38,
      "metadata": {
        "colab": {
          "base_uri": "https://localhost:8080/"
        },
        "id": "LRnqlT5w-L24",
        "outputId": "99f77e5d-b750-4498-e965-16e6dd9c98d1"
      },
      "outputs": [
        {
          "data": {
            "text/plain": [
              "MultinomialNB()"
            ]
          },
          "execution_count": 38,
          "metadata": {},
          "output_type": "execute_result"
        }
      ],
      "source": [
        "mlnb = MultinomialNB()\n",
        "mlnb.fit(train_x, train_y)"
      ]
    },
    {
      "cell_type": "code",
      "execution_count": 39,
      "metadata": {
        "colab": {
          "base_uri": "https://localhost:8080/",
          "height": 269
        },
        "id": "MjU2BkW1-L25",
        "outputId": "90a8cc21-b952-4e0e-f209-4a35500b126e"
      },
      "outputs": [
        {
          "data": {
            "text/html": [
              "<div>\n",
              "<style scoped>\n",
              "    .dataframe tbody tr th:only-of-type {\n",
              "        vertical-align: middle;\n",
              "    }\n",
              "\n",
              "    .dataframe tbody tr th {\n",
              "        vertical-align: top;\n",
              "    }\n",
              "\n",
              "    .dataframe thead th {\n",
              "        text-align: right;\n",
              "    }\n",
              "</style>\n",
              "<table border=\"1\" class=\"dataframe\">\n",
              "  <thead>\n",
              "    <tr style=\"text-align: right;\">\n",
              "      <th></th>\n",
              "      <th>test</th>\n",
              "      <th>train</th>\n",
              "    </tr>\n",
              "  </thead>\n",
              "  <tbody>\n",
              "    <tr>\n",
              "      <th>accuracy</th>\n",
              "      <td>72.279934</td>\n",
              "      <td>75.963773</td>\n",
              "    </tr>\n",
              "    <tr>\n",
              "      <th>precision</th>\n",
              "      <td>67.084981</td>\n",
              "      <td>73.922726</td>\n",
              "    </tr>\n",
              "    <tr>\n",
              "      <th>recall</th>\n",
              "      <td>67.238677</td>\n",
              "      <td>71.651733</td>\n",
              "    </tr>\n",
              "    <tr>\n",
              "      <th>f1</th>\n",
              "      <td>65.432465</td>\n",
              "      <td>70.174809</td>\n",
              "    </tr>\n",
              "    <tr>\n",
              "      <th>sensitivity</th>\n",
              "      <td>86.482085</td>\n",
              "      <td>92.380576</td>\n",
              "    </tr>\n",
              "    <tr>\n",
              "      <th>specificity</th>\n",
              "      <td>46.551724</td>\n",
              "      <td>61.173533</td>\n",
              "    </tr>\n",
              "    <tr>\n",
              "      <th>score</th>\n",
              "      <td>72.279934</td>\n",
              "      <td>75.963773</td>\n",
              "    </tr>\n",
              "  </tbody>\n",
              "</table>\n",
              "</div>"
            ],
            "text/plain": [
              "                  test      train\n",
              "accuracy     72.279934  75.963773\n",
              "precision    67.084981  73.922726\n",
              "recall       67.238677  71.651733\n",
              "f1           65.432465  70.174809\n",
              "sensitivity  86.482085  92.380576\n",
              "specificity  46.551724  61.173533\n",
              "score        72.279934  75.963773"
            ]
          },
          "execution_count": 39,
          "metadata": {},
          "output_type": "execute_result"
        }
      ],
      "source": [
        "model_metrics(mlnb, test_x, test_y, train_y, train_x)"
      ]
    },
    {
      "cell_type": "code",
      "execution_count": 40,
      "metadata": {
        "id": "Hm_XUqPZ-L26"
      },
      "outputs": [],
      "source": [
        "pickle.dump(mlnb, open('model_multinomial_nb.pkl', 'wb'))"
      ]
    },
    {
      "cell_type": "markdown",
      "metadata": {},
      "source": [
        "#### Modeling and Evaluation (DECISION TREE)"
      ]
    },
    {
      "cell_type": "code",
      "execution_count": 42,
      "metadata": {
        "colab": {
          "base_uri": "https://localhost:8080/"
        },
        "id": "QmkLDeQ8-kpA",
        "outputId": "69304d57-bd68-47bc-b7bf-cc285b5f383b"
      },
      "outputs": [
        {
          "data": {
            "text/plain": [
              "DecisionTreeClassifier(criterion='entropy', max_features='auto')"
            ]
          },
          "execution_count": 42,
          "metadata": {},
          "output_type": "execute_result"
        }
      ],
      "source": [
        "from sklearn.tree import DecisionTreeClassifier\n",
        "\n",
        "dt = DecisionTreeClassifier(max_features=\"auto\", criterion=\"entropy\")\n",
        "dt.fit(train_x, train_y)"
      ]
    },
    {
      "cell_type": "code",
      "execution_count": 43,
      "metadata": {
        "id": "TNBBJfIiYPLG"
      },
      "outputs": [],
      "source": [
        "pickle.dump(dt, open('model_dt.pkl', 'wb'))"
      ]
    },
    {
      "cell_type": "code",
      "execution_count": 44,
      "metadata": {
        "colab": {
          "base_uri": "https://localhost:8080/",
          "height": 269
        },
        "id": "34czZzejYUkb",
        "outputId": "19f42ff1-8990-4056-f832-eea9a64b133e"
      },
      "outputs": [
        {
          "data": {
            "text/html": [
              "<div>\n",
              "<style scoped>\n",
              "    .dataframe tbody tr th:only-of-type {\n",
              "        vertical-align: middle;\n",
              "    }\n",
              "\n",
              "    .dataframe tbody tr th {\n",
              "        vertical-align: top;\n",
              "    }\n",
              "\n",
              "    .dataframe thead th {\n",
              "        text-align: right;\n",
              "    }\n",
              "</style>\n",
              "<table border=\"1\" class=\"dataframe\">\n",
              "  <thead>\n",
              "    <tr style=\"text-align: right;\">\n",
              "      <th></th>\n",
              "      <th>test</th>\n",
              "      <th>train</th>\n",
              "    </tr>\n",
              "  </thead>\n",
              "  <tbody>\n",
              "    <tr>\n",
              "      <th>accuracy</th>\n",
              "      <td>57.490432</td>\n",
              "      <td>99.521531</td>\n",
              "    </tr>\n",
              "    <tr>\n",
              "      <th>precision</th>\n",
              "      <td>54.919856</td>\n",
              "      <td>99.291883</td>\n",
              "    </tr>\n",
              "    <tr>\n",
              "      <th>recall</th>\n",
              "      <td>54.341774</td>\n",
              "      <td>99.522666</td>\n",
              "    </tr>\n",
              "    <tr>\n",
              "      <th>f1</th>\n",
              "      <td>54.548360</td>\n",
              "      <td>99.403321</td>\n",
              "    </tr>\n",
              "    <tr>\n",
              "      <th>sensitivity</th>\n",
              "      <td>77.568493</td>\n",
              "      <td>100.000000</td>\n",
              "    </tr>\n",
              "    <tr>\n",
              "      <th>specificity</th>\n",
              "      <td>67.981439</td>\n",
              "      <td>99.893775</td>\n",
              "    </tr>\n",
              "    <tr>\n",
              "      <th>score</th>\n",
              "      <td>57.490432</td>\n",
              "      <td>99.521531</td>\n",
              "    </tr>\n",
              "  </tbody>\n",
              "</table>\n",
              "</div>"
            ],
            "text/plain": [
              "                  test       train\n",
              "accuracy     57.490432   99.521531\n",
              "precision    54.919856   99.291883\n",
              "recall       54.341774   99.522666\n",
              "f1           54.548360   99.403321\n",
              "sensitivity  77.568493  100.000000\n",
              "specificity  67.981439   99.893775\n",
              "score        57.490432   99.521531"
            ]
          },
          "execution_count": 44,
          "metadata": {},
          "output_type": "execute_result"
        }
      ],
      "source": [
        "model_metrics(dt, test_x, test_y, train_y, train_x)"
      ]
    }
  ],
  "metadata": {
    "colab": {
      "name": "objective_four.ipynb",
      "provenance": []
    },
    "kernelspec": {
      "display_name": "Python 3",
      "name": "python3"
    },
    "language_info": {
      "name": "python"
    },
    "orig_nbformat": 4
  },
  "nbformat": 4,
  "nbformat_minor": 0
}
