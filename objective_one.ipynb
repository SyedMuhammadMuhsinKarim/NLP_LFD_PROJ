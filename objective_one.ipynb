{
 "cells": [
  {
   "cell_type": "code",
   "execution_count": 6,
   "metadata": {},
   "outputs": [],
   "source": [
    "def link_generator(yyyy, mm, dd): \n",
    "    mm = str(mm).zfill(2)\n",
    "    dd = str(dd).zfill(2)\n",
    "    return f\"https://www.dawn.com/archive/latest-news/{yyyy}-{mm}-{dd}\"\n",
    "    \n",
    "def get_dawn_links(yyyy: str):\n",
    "    links = list()\n",
    "    for j in range(1,13):\n",
    "        if j in [1,3,5,7,8,10,12]:\n",
    "            for i in range(1,32):\n",
    "                links.append(link_generator(yyyy, j, i))\n",
    "        elif j in [4,6,9,11]:\n",
    "            for i in range(1,31):\n",
    "                links.append(link_generator(yyyy, j, i))\n",
    "        elif j == 2:\n",
    "            for i in range(1,29):\n",
    "                links.append(link_generator(yyyy, j, i))\n",
    "    return links\n",
    "\n",
    "links = get_dawn_links(\"2021\")"
   ]
  },
  {
   "cell_type": "code",
   "execution_count": null,
   "metadata": {},
   "outputs": [],
   "source": [
    "from bs4 import BeautifulSoup\n",
    "import requests\n",
    "\n",
    "posts = list()\n",
    "for li in links:\n",
    "  bs = BeautifulSoup(requests.get(li).text, \"html.parser\")\n",
    "  articles = bs.find_all('article')\n",
    "  post = list()\n",
    "  for i in articles:\n",
    "    try:\n",
    "      tag = i.find(\"span\").text\n",
    "      title = i.find('h2').text\n",
    "      summary = i.find('div').text.split(\"\\n\")[0]\n",
    "      post.append({\"TAG\": tag, \"SUMMARY\": summary, \"TITLE\": title, 'LINK': li})\n",
    "    except:\n",
    "      pass\n",
    "\n",
    "  posts += post\n",
    "\n",
    "posts"
   ]
  },
  {
   "cell_type": "code",
   "execution_count": 3,
   "metadata": {},
   "outputs": [],
   "source": [
    "def link_generator(yyyy, mm, dd): \n",
    "    mm = str(mm).zfill(2)\n",
    "    dd = str(dd).zfill(2)\n",
    "    return f\"https://www.thenews.com.pk/print/category/business?postDate={yyyy}-{mm}-{dd}\"\n",
    "    \n",
    "def get_dawn_links(yyyy: str):\n",
    "    links = list()\n",
    "    for j in range(1,13):\n",
    "        if j in [1,3,5,7,8,10,12]:\n",
    "            for i in range(1,32):\n",
    "                links.append(link_generator(yyyy, j, i))\n",
    "        elif j in [4,6,9,11]:\n",
    "            for i in range(1,31):\n",
    "                links.append(link_generator(yyyy, j, i))\n",
    "        elif j == 2:\n",
    "            for i in range(1,29):\n",
    "                links.append(link_generator(yyyy, j, i))\n",
    "    return links\n",
    "\n",
    "links = get_dawn_links(\"2021\")\n",
    "\n",
    "with open(\"link.txt\", \"a\") as f:\n",
    "    f.write(\"\\n\".join(links))"
   ]
  },
  {
   "cell_type": "code",
   "execution_count": 9,
   "metadata": {},
   "outputs": [
    {
     "data": {
      "text/plain": [
       "1093"
      ]
     },
     "execution_count": 9,
     "metadata": {},
     "output_type": "execute_result"
    }
   ],
   "source": [
    "with open(\"link.txt\", \"r\") as f:\n",
    "    links = f.read().split(\"\\n\")\n",
    "    \n",
    "len(links)"
   ]
  },
  {
   "cell_type": "code",
   "execution_count": null,
   "metadata": {},
   "outputs": [],
   "source": [
    "from bs4 import BeautifulSoup\n",
    "import requests\n",
    "\n",
    "posts = list()\n",
    "for li in links:\n",
    "  tag = li.split(\"\\/\")[-1].split(\"?\")[0]\n",
    "  bs = BeautifulSoup(requests.get(li).text, \"html.parser\")\n",
    "  articles = bs.find_all(\"div\", {\"class\": 'heading-cat'})\n",
    "  post = [{\"TITLE\": i.text, \"TAG\": tag} for i in articles]\n",
    "  posts += post\n",
    "\n",
    "posts"
   ]
  },
  {
   "cell_type": "code",
   "execution_count": 11,
   "metadata": {},
   "outputs": [],
   "source": [
    "import json\n",
    "with open(\"post.json\", \"a\") as f:\n",
    "    f.write(json.dumps(posts))"
   ]
  },
  {
   "cell_type": "code",
   "execution_count": 43,
   "metadata": {},
   "outputs": [],
   "source": [
    "import pandas as pd\n",
    "\n",
    "df_post = pd.read_json(\"post.json\")\n",
    "df_data = pd.read_json(\"data.json\")"
   ]
  },
  {
   "cell_type": "code",
   "execution_count": 44,
   "metadata": {},
   "outputs": [],
   "source": [
    "df_data = df_data[['TITLE', 'TAG']]"
   ]
  },
  {
   "cell_type": "code",
   "execution_count": 45,
   "metadata": {},
   "outputs": [],
   "source": [
    "df = pd.concat([df_data, df_post])"
   ]
  },
  {
   "cell_type": "code",
   "execution_count": 46,
   "metadata": {},
   "outputs": [],
   "source": [
    "df.drop_duplicates(inplace=True)"
   ]
  },
  {
   "cell_type": "code",
   "execution_count": 47,
   "metadata": {},
   "outputs": [],
   "source": [
    "df['TAG'] = df['TAG'].apply(lambda x: x.title())"
   ]
  },
  {
   "cell_type": "code",
   "execution_count": 59,
   "metadata": {},
   "outputs": [],
   "source": [
    "df['TAG'].loc[df['TAG'] == 'Business '] = 'Business'"
   ]
  },
  {
   "cell_type": "code",
   "execution_count": null,
   "metadata": {},
   "outputs": [],
   "source": [
    "df['TAG'].value_counts().to_dict()"
   ]
  },
  {
   "cell_type": "code",
   "execution_count": 62,
   "metadata": {},
   "outputs": [],
   "source": [
    "df.reset_index(drop=True, inplace=True)"
   ]
  },
  {
   "cell_type": "code",
   "execution_count": 64,
   "metadata": {},
   "outputs": [],
   "source": [
    "df.to_csv(\"data.csv\", index=False)"
   ]
  }
 ],
 "metadata": {
  "interpreter": {
   "hash": "31f2aee4e71d21fbe5cf8b01ff0e069b9275f58929596ceb00d14d90e3e16cd6"
  },
  "kernelspec": {
   "display_name": "Python 3.9.5 64-bit",
   "language": "python",
   "name": "python3"
  },
  "language_info": {
   "codemirror_mode": {
    "name": "ipython",
    "version": 3
   },
   "file_extension": ".py",
   "mimetype": "text/x-python",
   "name": "python",
   "nbconvert_exporter": "python",
   "pygments_lexer": "ipython3",
   "version": "3.9.5"
  },
  "orig_nbformat": 4
 },
 "nbformat": 4,
 "nbformat_minor": 2
}
